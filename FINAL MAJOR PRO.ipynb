{
 "cells": [
  {
   "cell_type": "code",
   "execution_count": 1,
   "metadata": {},
   "outputs": [
    {
     "name": "stdout",
     "output_type": "stream",
     "text": [
      " total number of rows and columns  (819, 10)\n",
      "number of duplicate rows:  (36, 10)\n",
      "No_Transactions                     819\n",
      "No_Orders                           819\n",
      "No_Payments                         819\n",
      "Fraud                               819\n",
      "paymentMethodRegistrationFailure    819\n",
      "paymentMethodType                   819\n",
      "paymentMethodProvider               819\n",
      "transactionAmount                   819\n",
      "transactionFailed                   819\n",
      "orderState                          819\n",
      "dtype: int64\n",
      "No_Transactions                     783\n",
      "No_Orders                           783\n",
      "No_Payments                         783\n",
      "Fraud                               783\n",
      "paymentMethodRegistrationFailure    783\n",
      "paymentMethodType                   783\n",
      "paymentMethodProvider               783\n",
      "transactionAmount                   783\n",
      "transactionFailed                   783\n",
      "orderState                          783\n",
      "dtype: int64\n"
     ]
    },
    {
     "data": {
      "image/png": "[encoded data removed]",
      "text/plain": [
       "<Figure size 432x288 with 1 Axes>"
      ]
     },
     "metadata": {
      "needs_background": "light"
     },
     "output_type": "display_data"
    }
   ],
   "source": [
    "import matplotlib.pyplot as plt\n",
    "import pandas as pd\n",
    "\n",
    "# merged two dataframes to one dataframe\n",
    "df1 = pd.read_csv('customer.csv')\n",
    "df2 = pd.read_csv('transaction.csv')\n",
    "df = df1.merge(df2, on='customerEmail')\n",
    "\n",
    "# Checking the data type\n",
    "# print(df.dtypes)\n",
    "\n",
    "# Dropping irrelevant columns\n",
    "df = df.drop(['Unnamed: 0_x', 'customerEmail', 'customerPhone', 'customerDevice', 'customerIPAddress', 'customerBillingAddress', 'Unnamed: 0_y', 'transactionId', 'orderId', 'paymentMethodId'], axis=1)\n",
    "# print(df.dtypes)\n",
    "\n",
    "# Total number of rows and columns\n",
    "total_number_of_rows = df.shape\n",
    "print(\" total number of rows and columns \", total_number_of_rows)\n",
    "\n",
    "# Rows containing duplicate data\n",
    "duplicate_rows_df = df[df.duplicated()]\n",
    "print('number of duplicate rows: ', duplicate_rows_df.shape)\n",
    "\n",
    "# Used to count the number of rows before removing the data\n",
    "print(df.count())\n",
    "\n",
    "df = df.drop_duplicates()\n",
    "\n",
    "# Count the number of rows after removing the data\n",
    "print(df.count())\n",
    "\n",
    "# no column with null values , so no need to drop the missing or null values.\n",
    "\n",
    "# next step\n",
    "# plot bar graph for which payment has more fraudulent transactions ::: my method\n",
    "df.groupby(['paymentMethodType', 'Fraud']).size().unstack().plot(kind='barh', stacked=True, title='Payment mode and Fraud Percentage', mark_right=True)\n",
    "plt.show()\n",
    "\n"
   ]
  },
  {
   "cell_type": "code",
   "execution_count": null,
   "metadata": {},
   "outputs": [],
   "source": [
    "import pandas as pd\n",
    "import numpy as np\n",
    "from scipy import stats\n",
    "import matplotlib.pyplot as plt\n",
    "import seaborn as sns\n",
    "sns.set_style(\"whitegrid\")\n",
    "%matplotlib inline\n",
    "#import missingno as msno\n",
    "from IPython.display import Markdown\n",
    "def bold(string):\n",
    "    display(Markdown(string))\n",
    "\n",
    "\n",
    "\n",
    "data = pd.read_csv('C:/Users/pc1/Desktop/Major Project ver/Customer_DF.csv', header = None)\n",
    "data.columns = data.iloc[0]\n",
    "data = data[1:]\n",
    "display(data.head(5))\n",
    "print('Dimension of data:', data.shape)"
   ]
  },
  {
   "cell_type": "code",
   "execution_count": null,
   "metadata": {},
   "outputs": [],
   "source": [
    "data2 = pd.read_csv('C:/Users/pc1/Desktop/Major Project ver/cust_transaction_details.csv', header = None)\n",
    "data2.columns = data2.iloc[0]\n",
    "data2 = data2[1:]\n",
    "display(data2.head(5))\n",
    "print('Dimension of data:', data2.shape)"
   ]
  },
  {
   "cell_type": "code",
   "execution_count": null,
   "metadata": {},
   "outputs": [],
   "source": [
    "sns.jointplot(x='paymentMethodType', y='transactionAmount', data=data2)\n",
    "\n"
   ]
  },
  {
   "cell_type": "code",
   "execution_count": null,
   "metadata": {},
   "outputs": [],
   "source": [
    "sns.pairplot(data2)\n"
   ]
  },
  {
   "cell_type": "code",
   "execution_count": null,
   "metadata": {},
   "outputs": [],
   "source": [
    "sns.lmplot(x='No_Transactions', y='No_Orders', data=data)"
   ]
  },
  {
   "cell_type": "code",
   "execution_count": null,
   "metadata": {},
   "outputs": [],
   "source": [
    "sns.set_palette('GnBu_d')\n",
    "sns.set_style('whitegrid')\n",
    "sns.jointplot(x='paymentMethodType', y='transactionAmount', data=data2)"
   ]
  },
  {
   "cell_type": "code",
   "execution_count": null,
   "metadata": {},
   "outputs": [],
   "source": [
    "print('total customer records', data.shape[0], 'total unique customer' ,len(data.customerEmail.unique()))"
   ]
  },
  {
   "cell_type": "code",
   "execution_count": null,
   "metadata": {},
   "outputs": [],
   "source": [
    "data[data['customerEmail'].duplicated()]\n",
    "#As there are 8 duplicate mails in data, so all these are assumed as fraudlent.Creating a new column to detect these."
   ]
  },
  {
   "cell_type": "code",
   "execution_count": null,
   "metadata": {},
   "outputs": [],
   "source": [
    "data['Duplicate_Name'] = data['CustomerEmail'].apply(lambda x: 1 if (data[data.customerEmail==x]['customerEmail'].shape[0]>1)else 0)\n",
    "data['Duplicate_IP'] = data['CustomerIPAddress'].apply(lambda x: 1 if (data[data.customerIPAddress==x]['CustomerIPAddress'].shape[0]>1)else 0)\n",
    "data['Duplicate_Address'] = data['customerBillingAddress'].apply(lambda x: 1 if(data[data.customerBillingAddress==x]['customerBillingAddress'].shape[0]>1)else 0)"
   ]
  },
  {
   "cell_type": "code",
   "execution_count": null,
   "metadata": {},
   "outputs": [],
   "source": [
    "data.head()"
   ]
  },
  {
   "cell_type": "code",
   "execution_count": null,
   "metadata": {},
   "outputs": [],
   "source": [
    "#Customer with maximum transactions \n",
    "data[data.No_Transactions==data.No_Transactions.max()]"
   ]
  },
  {
   "cell_type": "code",
   "execution_count": null,
   "metadata": {},
   "outputs": [],
   "source": [
    "#Customer with max Orders\n",
    "data[data.No_Orders==data.No_Orders.max()]"
   ]
  },
  {
   "cell_type": "code",
   "execution_count": null,
   "metadata": {},
   "outputs": [],
   "source": [
    "#Customer with max Payments\n",
    "data[data.No_Payments==data.No_Payments.max()]"
   ]
  },
  {
   "cell_type": "code",
   "execution_count": null,
   "metadata": {},
   "outputs": [],
   "source": [
    "data['Fraud_Found'] = data['Fraud'].apply(lambda x: 1 if x else 0)"
   ]
  },
  {
   "cell_type": "code",
   "execution_count": null,
   "metadata": {},
   "outputs": [],
   "source": [
    "import math\n",
    "print('Average no. of Payments:',round(data.No_Payments.mean()))\n",
    "print('Average no. of Transactions:',round(data.No_Transactions.mean()))\n",
    "print('Average no. of Orders:',round(data.No_Orders.mean()))"
   ]
  },
  {
   "cell_type": "code",
   "execution_count": null,
   "metadata": {},
   "outputs": [],
   "source": [
    "data.groupby(by=['Fraud'])['Fraud'].count().plot(kind='bar')\n",
    "plt.title('Fraud count')\n",
    "plt.show()"
   ]
  },
  {
   "cell_type": "code",
   "execution_count": null,
   "metadata": {},
   "outputs": [],
   "source": [
    "new_data = pd.melt(data[['No_Transactions', 'No_Orders', 'No_Payments', 'Fraud']], \"Fraud\", var_name=\"features\")\n",
    "\n",
    "plt.figure(figsize=(12,6))\n",
    "sns.swarmplot(x=\"features\", y=\"value\", hue=\"Fraud\", palette=['b','r','c'], data=new_data)"
   ]
  },
  {
   "cell_type": "code",
   "execution_count": null,
   "metadata": {},
   "outputs": [],
   "source": [
    "#As fraudlent transactions not very clearly distinguished,let's visualize the model another way."
   ]
  },
  {
   "cell_type": "code",
   "execution_count": null,
   "metadata": {},
   "outputs": [],
   "source": [
    "x = data[['No_Transactions','No_Orders','No_Payments']].values\n",
    "y = data.Fraud_Found.values"
   ]
  },
  {
   "cell_type": "code",
   "execution_count": null,
   "metadata": {},
   "outputs": [],
   "source": [
    "from sklearn.manifold import TSNE\n",
    "tsne = TSNE(n_components=2, random_state=0)\n",
    "X = tsne.fit_transform(x)"
   ]
  },
  {
   "cell_type": "code",
   "execution_count": null,
   "metadata": {},
   "outputs": [],
   "source": [
    "target_ids = range(2)\n",
    "\n",
    "plt.figure(figsize=(10,6))\n",
    "colors= 'r','g'\n",
    "\n",
    "for i, c, label in zip(target_ids, colors,['True','False']):\n",
    "    plt.scatter(X[y== i,0], X[y== i,1], c=c, label=label)\n",
    "plt.legend()\n",
    "plt.show()"
   ]
  },
  {
   "cell_type": "code",
   "execution_count": null,
   "metadata": {},
   "outputs": [],
   "source": [
    "#"
   ]
  },
  {
   "cell_type": "code",
   "execution_count": null,
   "metadata": {
    "scrolled": true
   },
   "outputs": [],
   "source": [
    "#Checking if a customer that has not opted for any payment method,is fraud\n",
    "data[data.No_Payments==0]\n",
    "#If the no. of payment methods are zero and there are no duplicates, then customer isn't a fraud."
   ]
  },
  {
   "cell_type": "code",
   "execution_count": null,
   "metadata": {},
   "outputs": [],
   "source": [
    "data2.paymentMethodType.unique()"
   ]
  },
  {
   "cell_type": "code",
   "execution_count": null,
   "metadata": {},
   "outputs": [],
   "source": [
    "# Insight of all successfull transactions done by a customer till date\n",
    "\n",
    "data2[(data2.transactionFailed>0) & (data2.customerEmail=='vmiller@hotmail.com')].unique()"
   ]
  },
  {
   "cell_type": "code",
   "execution_count": null,
   "metadata": {},
   "outputs": [],
   "source": [
    "data2[(data2.orderState=='fulfilled')].sort_values(by=['customerEmail'])"
   ]
  },
  {
   "cell_type": "code",
   "execution_count": null,
   "metadata": {},
   "outputs": [],
   "source": [
    "data[data.Fraud_Found==1]"
   ]
  },
  {
   "cell_type": "code",
   "execution_count": null,
   "metadata": {},
   "outputs": [],
   "source": [
    "import os\n",
    "from numpy import loadtxt\n",
    "import numpy as np\n",
    "import pandas as pd\n",
    "from xgboost import XGBClassifier\n",
    "from sklearn.model_selection import train_test_split\n",
    "from sklearn.metrics import accuracy_score\n",
    "from xgboost import plot_importance\n",
    "from matplotlib import pyplot\n",
    "from sklearn.model_selection import GridSearchCV\n",
    "from sklearn.model_selection import StratifiedKFold"
   ]
  },
  {
   "cell_type": "code",
   "execution_count": null,
   "metadata": {},
   "outputs": [],
   "source": [
    "# Join dataset and produce the result dataframe\n",
    "customer = pd.read_csv(\"customer.csv\",index_col=False)\n",
    "customer_df = customer[[\"customerEmail\",\"No_Transactions\",\"No_Orders\",\"No_Payments\",\"Fraud\"]]\n",
    "transaction = pd.read_csv(\"transaction.csv\",index_col=False)\n",
    "transaction_df = transaction[[\"customerEmail\",\"paymentMethodType\",\"transactionAmount\",\"orderState\",\"paymentMethodProvider\"]]\n",
    "print(customer_df.head())\n",
    "print(transaction_df.head())\n",
    "result = pd.merge(transaction_df,customer_df,on='customerEmail')\n",
    "print(result.head())\n",
    "\n",
    "\n"
   ]
  },
  {
   "cell_type": "code",
   "execution_count": null,
   "metadata": {},
   "outputs": [],
   "source": [
    "{\n",
    " \"cells\": [\n",
    "  {\n",
    "   \"cell_type\": \"code\",\n",
    "   \"execution_count\": 2,\n",
    "   \"metadata\": {},\n",
    "   \"outputs\": [],\n",
    "   \"source\": [\n",
    "    \"import os\\n\",\n",
    "    \"from numpy import loadtxt\\n\",\n",
    "    \"import numpy as np\\n\",\n",
    "    \"import pandas as pd\\n\",\n",
    "    \"from xgboost import XGBClassifier\\n\",\n",
    "    \"from sklearn.model_selection import train_test_split\\n\",\n",
    "    \"from sklearn.metrics import accuracy_score\\n\",\n",
    "    \"from xgboost import plot_importance\\n\",\n",
    "    \"from matplotlib import pyplot\\n\",\n",
    "    \"from sklearn.model_selection import GridSearchCV\\n\",\n",
    "    \"from sklearn.model_selection import StratifiedKFold\"\n",
    "   ]\n",
    "  },\n",
    "  {\n",
    "   \"cell_type\": \"code\",\n",
    "   \"execution_count\": 3,\n",
    "   \"metadata\": {\n",
    "    \"scrolled\": true\n",
    "   },\n",
    "   \"outputs\": [\n",
    "    {\n",
    "     \"name\": \"stdout\",\n",
    "     \"output_type\": \"stream\",\n",
    "     \"text\": [\n",
    "      \"               customerEmail  No_Transactions  No_Orders  No_Payments  Fraud\\n\",\n",
    "      \"0     josephhoward@yahoo.com                2          2            1  False\\n\",\n",
    "      \"1     evansjeffery@yahoo.com                3          3            7   True\\n\",\n",
    "      \"2  andersonwilliam@yahoo.com                5          3            2  False\\n\",\n",
    "      \"3      rubenjuarez@yahoo.com                3          3            1  False\\n\",\n",
    "      \"4           uchen@malone.com                7          7            6   True\\n\",\n",
    "      \"            customerEmail paymentMethodType  transactionAmount orderState  \\\\\\n\",\n",
    "      \"0  josephhoward@yahoo.com              card                 18    pending   \\n\",\n",
    "      \"1  josephhoward@yahoo.com              card                 26  fulfilled   \\n\",\n",
    "      \"2  evansjeffery@yahoo.com           bitcoin                 45  fulfilled   \\n\",\n",
    "      \"3  evansjeffery@yahoo.com           bitcoin                 23  fulfilled   \\n\",\n",
    "      \"4  evansjeffery@yahoo.com           bitcoin                 43  fulfilled   \\n\",\n",
    "      \"\\n\",\n",
    "      \"  paymentMethodProvider  \\n\",\n",
    "      \"0          JCB 16 digit  \\n\",\n",
    "      \"1          JCB 16 digit  \\n\",\n",
    "      \"2      American Express  \\n\",\n",
    "      \"3      American Express  \\n\",\n",
    "      \"4         VISA 16 digit  \\n\",\n",
    "      \"            customerEmail paymentMethodType  transactionAmount orderState  \\\\\\n\",\n",
    "      \"0  josephhoward@yahoo.com              card                 18    pending   \\n\",\n",
    "      \"1  josephhoward@yahoo.com              card                 26  fulfilled   \\n\",\n",
    "      \"2  evansjeffery@yahoo.com           bitcoin                 45  fulfilled   \\n\",\n",
    "      \"3  evansjeffery@yahoo.com           bitcoin                 23  fulfilled   \\n\",\n",
    "      \"4  evansjeffery@yahoo.com           bitcoin                 43  fulfilled   \\n\",\n",
    "      \"\\n\",\n",
    "      \"  paymentMethodProvider  No_Transactions  No_Orders  No_Payments  Fraud  \\n\",\n",
    "      \"0          JCB 16 digit                2          2            1  False  \\n\",\n",
    "      \"1          JCB 16 digit                2          2            1  False  \\n\",\n",
    "      \"2      American Express                3          3            7   True  \\n\",\n",
    "      \"3      American Express                3          3            7   True  \\n\",\n",
    "      \"4         VISA 16 digit                3          3            7   True  \\n\"\n",
    "     ]\n",
    "    }\n",
    "   ],\n",
    "   \"source\": [\n",
    "    \"# Join dataset and produce the result dataframe\\n\",\n",
    "    \"customer = pd.read_csv(\\\"customer.csv\\\",index_col=False)\\n\",\n",
    "    \"customer_df = customer[[\\\"customerEmail\\\",\\\"No_Transactions\\\",\\\"No_Orders\\\",\\\"No_Payments\\\",\\\"Fraud\\\"]]\\n\",\n",
    "    \"transaction = pd.read_csv(\\\"transaction.csv\\\",index_col=False)\\n\",\n",
    "    \"transaction_df = transaction[[\\\"customerEmail\\\",\\\"paymentMethodType\\\",\\\"transactionAmount\\\",\\\"orderState\\\",\\\"paymentMethodProvider\\\"]]\\n\",\n",
    "    \"print(customer_df.head())\\n\",\n",
    "    \"print(transaction_df.head())\\n\",\n",
    "    \"result = pd.merge(transaction_df,customer_df,on='customerEmail')\\n\",\n",
    "    \"print(result.head())\\n\",\n",
    "    \"\\n\",\n",
    "    \"\\n\"\n",
    "   ]\n",
    "  },\n",
    "  {\n",
    "   \"cell_type\": \"code\",\n",
    "   \"execution_count\": 4,\n",
    "   \"metadata\": {\n",
    "    \"scrolled\": true\n",
    "   },\n",
    "   \"outputs\": [\n",
    "    {\n",
    "     \"name\": \"stdout\",\n",
    "     \"output_type\": \"stream\",\n",
    "     \"text\": [\n",
    "      \"   cust_id  order_state_num  pay_method  pay_method_provider  No_Transactions  \\\\\\n\",\n",
    "      \"0        0                0           0                    0                2   \\n\",\n",
    "      \"1        0                1           0                    0                2   \\n\",\n",
    "      \"2        1                1           1                    1                3   \\n\",\n",
    "      \"3        1                1           1                    1                3   \\n\",\n",
    "      \"4        1                1           1                    2                3   \\n\",\n",
    "      \"\\n\",\n",
    "      \"   No_Orders  No_Payments  transactionAmount  fraud_num  \\n\",\n",
    "      \"0          2            1                 18          0  \\n\",\n",
    "      \"1          2            1                 26          0  \\n\",\n",
    "      \"2          3            7                 45          1  \\n\",\n",
    "      \"3          3            7                 23          1  \\n\",\n",
    "      \"4          3            7                 43          1  \\n\"\n",
    "     ]\n",
    "    }\n",
    "   ],\n",
    "   \"source\": [\n",
    "    \"# Data Preparation - Conversion from categorical values to numeric values and save numeric data frame to training_data_final.csv\\n\",\n",
    "    \"arr_customer=result['customerEmail'].unique()\\n\",\n",
    "    \"result['cust_id']=result['customerEmail'].apply(lambda x: arr_customer.tolist().index(x))\\n\",\n",
    "    \"arr_method=result['paymentMethodType'].unique()\\n\",\n",
    "    \"result['pay_method']=result['paymentMethodType'].apply(lambda x: arr_method.tolist().index(x))\\n\",\n",
    "    \"arr_method_provider=result['paymentMethodProvider'].unique()\\n\",\n",
    "    \"result['pay_method_provider']=result['paymentMethodProvider'].apply(lambda x: arr_method_provider.tolist().index(x))\\n\",\n",
    "    \"arr_order_state=result['orderState'].unique()\\n\",\n",
    "    \"result['order_state_num']=result['orderState'].apply(lambda x: arr_order_state.tolist().index(x))\\n\",\n",
    "    \"arr_fraud=result['Fraud'].unique()\\n\",\n",
    "    \"result['fraud_num']=result['Fraud'].apply(lambda x: arr_fraud.tolist().index(x))\\n\",\n",
    "    \"num_df = result[[\\\"cust_id\\\",\\\"order_state_num\\\",\\\"pay_method\\\",\\\"pay_method_provider\\\",\\\"No_Transactions\\\",\\\"No_Orders\\\",\\\"No_Payments\\\",\\\"transactionAmount\\\",\\\"fraud_num\\\"]]\\n\",\n",
    "    \"num_df.to_csv(\\\"training_data_final.csv\\\", sep=',', encoding='utf-8',index=False)\\n\",\n",
    "    \"print(num_df.head())\"\n",
    "   ]\n",
    "  },\n",
    "  {\n",
    "   \"cell_type\": \"code\",\n",
    "   \"execution_count\": 5,\n",
    "   \"metadata\": {\n",
    "    \"scrolled\": true\n",
    "   },\n",
    "   \"outputs\": [\n",
    "    {\n",
    "     \"name\": \"stdout\",\n",
    "     \"output_type\": \"stream\",\n",
    "     \"text\": [\n",
    "      \"Accuracy: 97.05%\\n\"\n",
    "     ]\n",
    "    }\n",
    "   ],\n",
    "   \"source\": [\n",
    "    \"dataset = pd.read_csv(\\\"training_data_final.csv\\\",index_col=False)\\n\",\n",
    "    \"X = dataset.iloc[:,0:8]\\n\",\n",
    "    \"Y = dataset.iloc[:,8]\\n\",\n",
    "    \"seed = 7\\n\",\n",
    "    \"test_size = 0.33\\n\",\n",
    "    \"X_train, X_test, y_train, y_test = train_test_split(X, Y, test_size=test_size, random_state=seed)\\n\",\n",
    "    \"model = XGBClassifier()\\n\",\n",
    "    \"model.fit(X_train, y_train)\\n\",\n",
    "    \"\\n\",\n",
    "    \"\\n\",\n",
    "    \"# Create Prediction Record and Predict if Fraud is True or False\\n\",\n",
    "    \"predictions = model.predict(X_test)\\n\",\n",
    "    \"accuracy = accuracy_score(y_test, predictions)\\n\",\n",
    "    \"print(\\\"Accuracy: %.2f%%\\\" % (accuracy * 100.0))\\n\"\n",
    "   ]\n",
    "  },\n",
    "  {\n",
    "   \"cell_type\": \"code\",\n",
    "   \"execution_count\": null,\n",
    "   \"metadata\": {},\n",
    "   \"outputs\": [],\n",
    "   \"source\": []\n",
    "  }\n",
    " ],\n",
    " \"metadata\": {\n",
    "  \"kernelspec\": {\n",
    "   \"display_name\": \"Python 3\",\n",
    "   \"language\": \"python\",\n",
    "   \"name\": \"python3\"\n",
    "  },\n",
    "  \"language_info\": {\n",
    "   \"codemirror_mode\": {\n",
    "    \"name\": \"ipython\",\n",
    "    \"version\": 3\n",
    "   },\n",
    "   \"file_extension\": \".py\",\n",
    "   \"mimetype\": \"text/x-python\",\n",
    "   \"name\": \"python\",\n",
    "   \"nbconvert_exporter\": \"python\",\n",
    "   \"pygments_lexer\": \"ipython3\",\n",
    "   \"version\": \"3.6.8\"\n",
    "  }\n",
    " },\n",
    " \"nbformat\": 4,\n",
    " \"nbformat_minor\": 2\n",
    "}\n"
   ]
  },
  {
   "cell_type": "code",
   "execution_count": null,
   "metadata": {},
   "outputs": [],
   "source": [
    "import os\n",
    "from numpy import loadtxt\n",
    "import numpy as np\n",
    "import pandas as pd\n",
    "from xgboost import XGBClassifier\n",
    "from sklearn.model_selection import train_test_split\n",
    "from sklearn.metrics import accuracy_score\n",
    "from xgboost import plot_importance\n",
    "from matplotlib import pyplot\n",
    "from sklearn.model_selection import GridSearchCV\n",
    "from sklearn.model_selection import StratifiedKFold"
   ]
  },
  {
   "cell_type": "code",
   "execution_count": null,
   "metadata": {},
   "outputs": [],
   "source": [
    "# Join dataset and produce the result dataframe\n",
    "customer = pd.read_csv(\"customer.csv\",index_col=False)\n",
    "customer_df = customer[[\"customerEmail\",\"No_Transactions\",\"No_Orders\",\"No_Payments\",\"Fraud\"]]\n",
    "transaction = pd.read_csv(\"transaction.csv\",index_col=False)\n",
    "transaction_df = transaction[[\"customerEmail\",\"paymentMethodType\",\"transactionAmount\",\"orderState\",\"paymentMethodProvider\"]]\n",
    "print(customer_df.head())\n",
    "print(transaction_df.head())\n",
    "result = pd.merge(transaction_df,customer_df,on='customerEmail')\n",
    "print(result.head())\n",
    "\n",
    "\n"
   ]
  },
  {
   "cell_type": "code",
   "execution_count": null,
   "metadata": {},
   "outputs": [],
   "source": [
    "# Data Preparation - Conversion from categorical values to numeric values and save numeric data frame to training_data_final.csv\n",
    "arr_customer=result['customerEmail'].unique()\n",
    "result['cust_id']=result['customerEmail'].apply(lambda x: arr_customer.tolist().index(x))\n",
    "arr_method=result['paymentMethodType'].unique()\n",
    "result['pay_method']=result['paymentMethodType'].apply(lambda x: arr_method.tolist().index(x))\n",
    "arr_method_provider=result['paymentMethodProvider'].unique()\n",
    "result['pay_method_provider']=result['paymentMethodProvider'].apply(lambda x: arr_method_provider.tolist().index(x))\n",
    "arr_order_state=result['orderState'].unique()\n",
    "result['order_state_num']=result['orderState'].apply(lambda x: arr_order_state.tolist().index(x))\n",
    "arr_fraud=result['Fraud'].unique()\n",
    "result['fraud_num']=result['Fraud'].apply(lambda x: arr_fraud.tolist().index(x))\n",
    "num_df = result[[\"cust_id\",\"order_state_num\",\"pay_method\",\"pay_method_provider\",\"No_Transactions\",\"No_Orders\",\"No_Payments\",\"transactionAmount\",\"fraud_num\"]]\n",
    "num_df.to_csv(\"training_data_final.csv\", sep=',', encoding='utf-8',index=False)\n",
    "print(num_df.head())"
   ]
  },
  {
   "cell_type": "code",
   "execution_count": null,
   "metadata": {},
   "outputs": [],
   "source": [
    "dataset = pd.read_csv(\"training_data_final.csv\",index_col=False)\n",
    "X = dataset.iloc[:,0:8]\n",
    "Y = dataset.iloc[:,8]\n",
    "seed = 7\n",
    "test_size = 0.33\n",
    "X_train, X_test, y_train, y_test = train_test_split(X, Y, test_size=test_size, random_state=seed)\n",
    "model = XGBClassifier()\n",
    "model.fit(X_train, y_train)\n",
    "\n",
    "\n",
    "# Create Prediction Record and Predict if Fraud is True or False\n",
    "predictions = model.predict(X_test)\n",
    "accuracy = accuracy_score(y_test, predictions)\n",
    "print(\"Accuracy: %.2f%%\" % (accuracy * 100.0))\n"
   ]
  },
  {
   "cell_type": "code",
   "execution_count": null,
   "metadata": {},
   "outputs": [],
   "source": []
  }
 ],
 "metadata": {
  "kernelspec": {
   "display_name": "Python 3",
   "language": "python",
   "name": "python3"
  },
  "language_info": {
   "codemirror_mode": {
    "name": "ipython",
    "version": 3
   },
   "file_extension": ".py",
   "mimetype": "text/x-python",
   "name": "python",
   "nbconvert_exporter": "python",
   "pygments_lexer": "ipython3",
   "version": "3.8.8"
  }
 },
 "nbformat": 4,
 "nbformat_minor": 2
}
